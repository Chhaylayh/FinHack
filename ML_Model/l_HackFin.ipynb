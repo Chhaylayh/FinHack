{
  "nbformat": 4,
  "nbformat_minor": 0,
  "metadata": {
    "colab": {
      "provenance": []
    },
    "kernelspec": {
      "name": "python3",
      "display_name": "Python 3"
    },
    "language_info": {
      "name": "python"
    }
  },
  "cells": [
    {
      "cell_type": "code",
      "execution_count": null,
      "metadata": {
        "colab": {
          "base_uri": "https://localhost:8080/"
        },
        "id": "rikSeFtCFqOt",
        "outputId": "b3b68c7a-2b1a-476d-d7c4-435d1bd9887c"
      },
      "outputs": [
        {
          "output_type": "stream",
          "name": "stdout",
          "text": [
            "Drive already mounted at /content/drive; to attempt to forcibly remount, call drive.mount(\"/content/drive\", force_remount=True).\n"
          ]
        }
      ],
      "source": [
        "from google.colab import drive\n",
        "drive.mount('/content/drive')"
      ]
    },
    {
      "cell_type": "code",
      "source": [
        "import os\n",
        "import numpy\n",
        "import pandas as pd\n",
        "import seaborn as sns\n",
        "import matplotlib.pyplot as plt\n",
        "import matplotlib.colors as colors\n",
        "\n",
        "from sklearn.utils import resample\n",
        "from sklearn.model_selection import train_test_split\n",
        "from sklearn.preprocessing import scale\n",
        "\n",
        "from sklearn.ensemble import RandomForestClassifier\n",
        "from sklearn.svm import SVC\n",
        "from sklearn.linear_model import LogisticRegression\n",
        "\n",
        "from sklearn.decomposition import PCA\n",
        "# Instead of importing plot_confusion_matrix, import ConfusionMatrixDisplay\n",
        "from sklearn.metrics import ConfusionMatrixDisplay\n",
        "from sklearn.metrics import confusion_matrix\n",
        "from sklearn.preprocessing import StandardScaler\n",
        "from sklearn.model_selection import train_test_split, GridSearchCV, cross_val_score\n",
        "\n",
        "%matplotlib inline"
      ],
      "metadata": {
        "id": "gO99x5W5JcjS"
      },
      "execution_count": 2,
      "outputs": []
    },
    {
      "cell_type": "code",
      "source": [
        "df_csv = pd.read_csv('/content/Toxic_Tracker.csv', header=1, sep='\\t')\n",
        "\n",
        "# Read the Excel file\n",
        "df_excel = pd.read_excel('/content/RSEI Score.xlsx', header=1)\n",
        "\n",
        "print(\"CSV File Data:\")\n",
        "print(df_csv.head())\n",
        "print()\n",
        "print(\"\\nExcel File Data:\")\n",
        "print(df_excel.head())"
      ],
      "metadata": {
        "colab": {
          "base_uri": "https://localhost:8080/"
        },
        "id": "h5Eb18FoSGAR",
        "outputId": "b3940008-4444-4fb4-a725-c89c7780d659"
      },
      "execution_count": 29,
      "outputs": [
        {
          "output_type": "stream",
          "name": "stdout",
          "text": [
            "Index(['2018', 'HARRIS, TX', 'Ethylene oxide', 38582686.59819809,\n",
            "       360161958200.7855],\n",
            "      dtype='object')\n",
            "CSV File Data:\n",
            "  TRI Facility Name,TRI Facility ID,Year,ZIP Code,City,County,State,Chemical,Releases (lb),Waste Managed (lb),RSEI Hazard\n",
            "0  RED DOG OPERATIONS,99752RDDGP90MIL,2023,99752,...                                                                     \n",
            "1  RED DOG OPERATIONS,99752RDDGP90MIL,2023,99752,...                                                                     \n",
            "2  RED DOG OPERATIONS,99752RDDGP90MIL,2021,99752,...                                                                     \n",
            "3  RED DOG OPERATIONS,99752RDDGP90MIL,2022,99752,...                                                                     \n",
            "4  NEVADA GOLD MINES LLC - GOLDSTRIKE MINES INC,8...                                                                     \n",
            "\n",
            "\n",
            "Excel File Data:\n",
            "   2018  HARRIS, TX                   Ethylene oxide  38582686.598198  \\\n",
            "0  2013  HARRIS, TX  Chromium and chromium compounds  35242456.278315   \n",
            "1  2015  HARRIS, TX                   Ethylene oxide   31945773.16948   \n",
            "2  2014  HARRIS, TX                   Ethylene oxide   30456117.77453   \n",
            "3  2016  HARRIS, TX                   Ethylene oxide  27756079.344753   \n",
            "4  2013  HARRIS, TX                   Ethylene oxide   27090468.10421   \n",
            "\n",
            "   360161958200.785522  \n",
            "0         1.065209e+11  \n",
            "1         2.367484e+11  \n",
            "2         1.505745e+12  \n",
            "3         4.763602e+11  \n",
            "4         2.135703e+11  \n"
          ]
        }
      ]
    },
    {
      "cell_type": "code",
      "source": [
        "# df_excel.drop(['Unnamed: 0'], axis=1, inplace=True)\n",
        "df_csv.dtypes\n",
        "print(\"Next Value: \")\n",
        "df_excel.dtypes"
      ],
      "metadata": {
        "colab": {
          "base_uri": "https://localhost:8080/",
          "height": 255
        },
        "id": "zsvnC7jtFRwP",
        "outputId": "d556cf9d-fd5f-4842-920b-17267261e3a9"
      },
      "execution_count": 16,
      "outputs": [
        {
          "output_type": "stream",
          "name": "stdout",
          "text": [
            "Next Value: \n"
          ]
        },
        {
          "output_type": "execute_result",
          "data": {
            "text/plain": [
              "2018                     int64\n",
              "HARRIS, TX              object\n",
              "Ethylene oxide          object\n",
              "38582686.598198         object\n",
              "360161958200.785522    float64\n",
              "dtype: object"
            ],
            "text/html": [
              "<div>\n",
              "<style scoped>\n",
              "    .dataframe tbody tr th:only-of-type {\n",
              "        vertical-align: middle;\n",
              "    }\n",
              "\n",
              "    .dataframe tbody tr th {\n",
              "        vertical-align: top;\n",
              "    }\n",
              "\n",
              "    .dataframe thead th {\n",
              "        text-align: right;\n",
              "    }\n",
              "</style>\n",
              "<table border=\"1\" class=\"dataframe\">\n",
              "  <thead>\n",
              "    <tr style=\"text-align: right;\">\n",
              "      <th></th>\n",
              "      <th>0</th>\n",
              "    </tr>\n",
              "  </thead>\n",
              "  <tbody>\n",
              "    <tr>\n",
              "      <th>2018</th>\n",
              "      <td>int64</td>\n",
              "    </tr>\n",
              "    <tr>\n",
              "      <th>HARRIS, TX</th>\n",
              "      <td>object</td>\n",
              "    </tr>\n",
              "    <tr>\n",
              "      <th>Ethylene oxide</th>\n",
              "      <td>object</td>\n",
              "    </tr>\n",
              "    <tr>\n",
              "      <th>38582686.598198</th>\n",
              "      <td>object</td>\n",
              "    </tr>\n",
              "    <tr>\n",
              "      <th>360161958200.785522</th>\n",
              "      <td>float64</td>\n",
              "    </tr>\n",
              "  </tbody>\n",
              "</table>\n",
              "</div><br><label><b>dtype:</b> object</label>"
            ]
          },
          "metadata": {},
          "execution_count": 16
        }
      ]
    },
    {
      "cell_type": "code",
      "source": [
        "#df_csv = pd.read_csv('/content/Toxic_Tracker.csv', sep=',')\n",
        "print(df_csv.columns)\n",
        "len(df_csv.loc[(df_csv['RSEI Hazard'] == 0) | (df_csv['ZIP Code'] == 0)])"
      ],
      "metadata": {
        "colab": {
          "base_uri": "https://localhost:8080/"
        },
        "id": "Us2TE6nNHPPk",
        "outputId": "b0edecaf-7240-493d-e639-3c8fa6652ed3"
      },
      "execution_count": 37,
      "outputs": [
        {
          "output_type": "stream",
          "name": "stdout",
          "text": [
            "Index(['TRI Facility Name', 'TRI Facility ID', 'Year', 'ZIP Code', 'City',\n",
            "       'County', 'State', 'Chemical', 'Releases (lb)', 'Waste Managed (lb)',\n",
            "       'RSEI Hazard'],\n",
            "      dtype='object')\n"
          ]
        },
        {
          "output_type": "execute_result",
          "data": {
            "text/plain": [
              "0"
            ]
          },
          "metadata": {},
          "execution_count": 37
        }
      ]
    },
    {
      "cell_type": "code",
      "source": [
        "df_csv = pd.read_csv('/content/Toxic_Tracker.csv', sep=',')\n",
        "\n",
        "df_csv_half1 = df_csv[df_csv['RSEI Hazard'] == 0]\n",
        "df_csv_half2 = df_csv[df_csv['RSEI Hazard'] == 1]\n",
        "\n",
        "\n",
        "#down sample the data\n",
        "df_csv_half1_downsampled = resample(df_csv, replace=False, n_samples=1000, random_state=42)\n",
        "df_csv_half2_downsampled = resample(df_csv, replace=False, n_samples=1000, random_state=42)\n",
        "df_csv_oncated = pd.concat([df_csv_half1_downsampled, df_csv_half2_downsampled])\n",
        "\n",
        "X = df_csv_oncated.drop(['RSEI Hazard'], axis=1)\n",
        "y = df_csv_oncated['RSEI Hazard']\n",
        "\n",
        "X = df_csv_oncated.drop(['RSEI Hazard'], axis=1).copy()\n",
        "y = df_csv_oncated['RSEI Hazard'].copy()\n",
        "\n",
        "\n",
        "#encoding data\n",
        "X_encoded = pd.get_dummies(X, columns=['TRI Facility Name', 'ZIP Code', 'City',\n",
        "       'County', 'State', 'Chemical'], dtype=int)\n",
        "\n",
        "#Centering and scaling the data\n",
        "X_train, X_test, y_train, y_test = train_test_split(X_encoded, y, random_state=42)\n",
        "X_train_scaled = scale(X_train)\n",
        "X_test_scaled = scale(X_test)\n",
        "\n",
        "clfm_"
      ],
      "metadata": {
        "colab": {
          "base_uri": "https://localhost:8080/",
          "height": 241
        },
        "id": "3P1ymozJMm_I",
        "outputId": "cc1054f4-b81c-416a-b068-2d23e819dc6c"
      },
      "execution_count": 1,
      "outputs": [
        {
          "output_type": "error",
          "ename": "NameError",
          "evalue": "name 'pd' is not defined",
          "traceback": [
            "\u001b[0;31m---------------------------------------------------------------------------\u001b[0m",
            "\u001b[0;31mNameError\u001b[0m                                 Traceback (most recent call last)",
            "\u001b[0;32m<ipython-input-1-a22cdb44cc7f>\u001b[0m in \u001b[0;36m<cell line: 1>\u001b[0;34m()\u001b[0m\n\u001b[0;32m----> 1\u001b[0;31m \u001b[0mdf_csv\u001b[0m \u001b[0;34m=\u001b[0m \u001b[0mpd\u001b[0m\u001b[0;34m.\u001b[0m\u001b[0mread_csv\u001b[0m\u001b[0;34m(\u001b[0m\u001b[0;34m'/content/Toxic_Tracker.csv'\u001b[0m\u001b[0;34m,\u001b[0m \u001b[0msep\u001b[0m\u001b[0;34m=\u001b[0m\u001b[0;34m','\u001b[0m\u001b[0;34m)\u001b[0m\u001b[0;34m\u001b[0m\u001b[0;34m\u001b[0m\u001b[0m\n\u001b[0m\u001b[1;32m      2\u001b[0m \u001b[0;34m\u001b[0m\u001b[0m\n\u001b[1;32m      3\u001b[0m \u001b[0mdf_csv_half1\u001b[0m \u001b[0;34m=\u001b[0m \u001b[0mdf_csv\u001b[0m\u001b[0;34m[\u001b[0m\u001b[0mdf_csv\u001b[0m\u001b[0;34m[\u001b[0m\u001b[0;34m'RSEI Hazard'\u001b[0m\u001b[0;34m]\u001b[0m \u001b[0;34m==\u001b[0m \u001b[0;36m0\u001b[0m\u001b[0;34m]\u001b[0m\u001b[0;34m\u001b[0m\u001b[0;34m\u001b[0m\u001b[0m\n\u001b[1;32m      4\u001b[0m \u001b[0mdf_csv_half2\u001b[0m \u001b[0;34m=\u001b[0m \u001b[0mdf_csv\u001b[0m\u001b[0;34m[\u001b[0m\u001b[0mdf_csv\u001b[0m\u001b[0;34m[\u001b[0m\u001b[0;34m'RSEI Hazard'\u001b[0m\u001b[0;34m]\u001b[0m \u001b[0;34m==\u001b[0m \u001b[0;36m1\u001b[0m\u001b[0;34m]\u001b[0m\u001b[0;34m\u001b[0m\u001b[0;34m\u001b[0m\u001b[0m\n\u001b[1;32m      5\u001b[0m \u001b[0;34m\u001b[0m\u001b[0m\n",
            "\u001b[0;31mNameError\u001b[0m: name 'pd' is not defined"
          ]
        }
      ]
    },
    {
      "cell_type": "markdown",
      "source": [],
      "metadata": {
        "id": "FHDJjmDKI-QH"
      }
    }
  ]
}